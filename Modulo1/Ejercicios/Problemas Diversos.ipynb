{
 "cells": [
  {
   "cell_type": "markdown",
   "metadata": {},
   "source": [
    "# PROBLEMAS DIVERSOS"
   ]
  },
  {
   "cell_type": "markdown",
   "metadata": {},
   "source": [
    "<h3>1.</h3>\n",
    "Imagina que acabas de abrir una nueva cuenta de ahorros que te ofrece el 4% de interés al año. Estos ahorros debido a intereses, que no se cobran hasta finales de año, se te añaden al balance final de tu cuenta de ahorros. Escribir un programa que comience leyendo la cantidad de dinero depositada en la cuenta de ahorros, introducida por el usuario. Después el programa debe calcular y mostrar por pantalla la cantidad de ahorros tras el primer, segundo y tercer años. Redondear cada cantidad a dos decimales."
   ]
  },
  {
   "cell_type": "markdown",
   "metadata": {},
   "source": [
    "\n",
    "**Formula Interes compuesto**\n",
    "\n",
    "$$\n",
    "Cf =   C ({1 +}\\frac{r}{100}) {^t}\n",
    "$$\n",
    "\n",
    "Donde:\n",
    "- Cf: Capital Final\n",
    "- C: Capital\n",
    "- r: interés o rédito\n",
    "- t: tiempo (en años)"
   ]
  },
  {
   "cell_type": "code",
   "execution_count": 6,
   "metadata": {},
   "outputs": [
    {
     "name": "stdout",
     "output_type": "stream",
     "text": [
      "el capital en el primera año es= s/1040.0\n",
      "el capital en el segundo año es= s/1081.6\n",
      "el capital en el tercer año es= s/1124.86\n"
     ]
    }
   ],
   "source": [
    "capital= float(input(\"que cantidad de dinero quiere depositar en la cuenta de ahorro\"))\n",
    "tasa=4\n",
    "tiempo= 1\n",
    "capital_final=capital*((1+(tasa/100))**tiempo)\n",
    "print(f\"el capital en el primera año es= s/{round(capital_final,2)}\")\n",
    "\n",
    "tiempo=tiempo+1\n",
    "capital_final=capital*((1+(tasa/100))**tiempo)\n",
    "print(f\"el capital en el segundo año es= s/{round(capital_final,2)}\")\n",
    "\n",
    "tiempo=tiempo+1\n",
    "capital_final=capital*((1+(tasa/100))**tiempo)\n",
    "print(f\"el capital en el tercer año es= s/{round(capital_final,2)}\")\n"
   ]
  },
  {
   "cell_type": "code",
   "execution_count": 2,
   "metadata": {},
   "outputs": [
    {
     "name": "stdout",
     "output_type": "stream",
     "text": [
      "123.46\n"
     ]
    }
   ],
   "source": [
    "valor= 123.456789\n",
    "print  (f\"{round(valor,2)}\")"
   ]
  },
  {
   "cell_type": "code",
   "execution_count": 3,
   "metadata": {},
   "outputs": [
    {
     "name": "stdout",
     "output_type": "stream",
     "text": [
      "resultado:123.46\n"
     ]
    }
   ],
   "source": [
    "# otra forma \n",
    "valor=123.456789\n",
    "print(f\"resultado:{valor:.2f}\")"
   ]
  },
  {
   "cell_type": "markdown",
   "metadata": {},
   "source": [
    "### 2.\n",
    "Escriba un programa que pida los coeficientes de una ecuación de segundo grado <code>(a x² + b x + c = 0)</code> y escriba la solución.\n",
    "\n",
    "Se recuerda que una ecuación de segundo grado puede no tener solución, tener una solución única, tener dos soluciones o que todos los números sean solución."
   ]
  },
  {
   "cell_type": "markdown",
   "metadata": {},
   "source": [
    "<img src='https://i.pinimg.com/originals/d3/f7/01/d3f701528ad56ce0f5a98d7c91722fd7.png'>"
   ]
  },
  {
   "cell_type": "markdown",
   "metadata": {},
   "source": [
    "Su programa debe indicar:\n",
    "- En caso la ecuación cuadrática tenga solución real, su programa debe brindar la solución\n",
    "- En caso su ecuación no tenga solución real, su programa debe brindar un mensaje que diga \"Ecuación no presenta solución real\""
   ]
  },
  {
   "cell_type": "code",
   "execution_count": null,
   "metadata": {},
   "outputs": [],
   "source": []
  }
 ],
 "metadata": {
  "kernelspec": {
   "display_name": "Python 3 (ipykernel)",
   "language": "python",
   "name": "python3"
  },
  "language_info": {
   "codemirror_mode": {
    "name": "ipython",
    "version": 3
   },
   "file_extension": ".py",
   "mimetype": "text/x-python",
   "name": "python",
   "nbconvert_exporter": "python",
   "pygments_lexer": "ipython3",
   "version": "3.10.13"
  }
 },
 "nbformat": 4,
 "nbformat_minor": 4
}
